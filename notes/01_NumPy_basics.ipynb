{
 "cells": [
  {
   "cell_type": "markdown",
   "id": "bbee8619",
   "metadata": {},
   "source": [
    "# NumPy Quickstart\n",
    "For more detail please refer to https://numpy.org/doc/stable/user/quickstart.html"
   ]
  },
  {
   "cell_type": "code",
   "execution_count": 9,
   "id": "fb54cadd",
   "metadata": {},
   "outputs": [
    {
     "name": "stdout",
     "output_type": "stream",
     "text": [
      "[[ 0  1  2  3  4]\n",
      " [ 5  6  7  8  9]\n",
      " [10 11 12 13 14]]\n",
      "Dimension of the array: (3, 5), total number of elements: 15, number of axis: 2\n",
      "Type of the array: int64\n",
      "Itemsize of each element: 8 bytes\n"
     ]
    }
   ],
   "source": [
    "import numpy as np\n",
    "\n",
    "# Creating a 2D array\n",
    "a = np.arange(15).reshape(3, 5) # Rows: 3, Columns: 5, with range 0-14\n",
    "print(a)\n",
    "\n",
    "# Dimension of the array\n",
    "print(f\"Dimension of the array: {a.shape}, total number of elements: {a.size}, number of axis: {a.ndim}\")\n",
    "\n",
    "# Checking the type of the array\n",
    "print(f\"Type of the array: {a.dtype}\")\n",
    "\n",
    "# Itemsize of each element in bytes\n",
    "print(f\"Itemsize of each element: {a.itemsize} bytes\")\n"
   ]
  },
  {
   "cell_type": "markdown",
   "id": "7110a032",
   "metadata": {},
   "source": [
    "There are 3 ways for you to create an array: 1. np.arange(x).rehsape(y, z); 2. using np.array([add your own list of numbers here]); 3. using placeholders"
   ]
  },
  {
   "cell_type": "code",
   "execution_count": null,
   "id": "5cf70765",
   "metadata": {},
   "outputs": [
    {
     "name": "stdout",
     "output_type": "stream",
     "text": [
      "[[1.+0.j 2.+0.j]\n",
      " [3.+0.j 4.+0.j]]\n"
     ]
    }
   ],
   "source": [
    "# For method 2, you could also specify the data type, e.g., complex\n",
    "b = np.array([[1, 2],[3, 4]], dtype=complex)\n",
    "print(b)\n",
    "\n",
    "# "
   ]
  }
 ],
 "metadata": {
  "kernelspec": {
   "display_name": "Python 3",
   "language": "python",
   "name": "python3"
  },
  "language_info": {
   "codemirror_mode": {
    "name": "ipython",
    "version": 3
   },
   "file_extension": ".py",
   "mimetype": "text/x-python",
   "name": "python",
   "nbconvert_exporter": "python",
   "pygments_lexer": "ipython3",
   "version": "3.12.7"
  }
 },
 "nbformat": 4,
 "nbformat_minor": 5
}
