{
 "cells": [
  {
   "cell_type": "markdown",
   "id": "bbee8619",
   "metadata": {},
   "source": [
    "# NumPy Quickstart\n",
    "For more detail please refer to https://numpy.org/doc/stable/user/quickstart.html"
   ]
  },
  {
   "cell_type": "markdown",
   "id": "6f8c15ae",
   "metadata": {},
   "source": [
    "### Array Creation"
   ]
  },
  {
   "cell_type": "code",
   "execution_count": null,
   "id": "fb54cadd",
   "metadata": {},
   "outputs": [
    {
     "name": "stdout",
     "output_type": "stream",
     "text": [
      "[[ 0  1  2  3  4]\n",
      " [ 5  6  7  8  9]\n",
      " [10 11 12 13 14]]\n",
      "====================================================================================================\n",
      "Dimension of the array: (3, 5), total number of elements: 15, number of axis: 2\n",
      "Type of the array: int64\n",
      "Itemsize of each element: 8 bytes\n"
     ]
    }
   ],
   "source": [
    "import numpy as np\n",
    "\n",
    "# Creating a 2D array\n",
    "a = np.arange(15).reshape(3, 5) # Rows: 3, Columns: 5, with range 0-14\n",
    "print(a)\n",
    "print(\"=\" * 100)\n",
    "# NumPy `arange` is similar to Python's built-in `range`, but returns an array instead of a list\n",
    "\n",
    "# Dimension of the array\n",
    "print(f\"Dimension of the array: {a.shape}, total number of elements: {a.size}, number of axis: {a.ndim}\")\n",
    "\n",
    "# Checking the type of the array\n",
    "print(f\"Type of the array: {a.dtype}\")\n",
    "\n",
    "# Itemsize of each element in bytes\n",
    "print(f\"Itemsize of each element: {a.itemsize} bytes\")\n"
   ]
  },
  {
   "cell_type": "markdown",
   "id": "7110a032",
   "metadata": {},
   "source": [
    "There are 4 ways for you to create an array: 1. `np.arange(x).rehsape(y, z)`; 2. using `np.array([add your own list of numbers here])`; 3. using placeholders; 4. using `np.linspace()`"
   ]
  },
  {
   "cell_type": "code",
   "execution_count": null,
   "id": "5cf70765",
   "metadata": {},
   "outputs": [
    {
     "name": "stdout",
     "output_type": "stream",
     "text": [
      "[[1.+0.j 2.+0.j]\n",
      " [3.+0.j 4.+0.j]]\n",
      "This is a complex array: complex128\n",
      "====================================================================================================\n",
      "[[[ 1  2  3]\n",
      "  [ 4  5  6]]\n",
      "\n",
      " [[ 7  8  9]\n",
      "  [10 11 12]]]\n",
      "Dimension of the array: (2, 2, 3), total number of elements: 12, number of axis: 3\n"
     ]
    }
   ],
   "source": [
    "# For method 1, refer to the code above\n",
    "# For method 2, you could also specify the data type, e.g., complex\n",
    "b = np.array([[1, 2],[3, 4]], dtype=complex)\n",
    "print(b)\n",
    "print(f\"This is a complex array: {b.dtype}\")\n",
    "print(\"=\" * 100)\n",
    "# Note that numpy arrays can be multi-dimensional\n",
    "# But it can't be inhomogeneous (e.g., mixing integers and strings, or mixing 1D and 2D arrays)\n",
    "c = np.array([\n",
    "    [[1, 2, 3], \n",
    "     [4, 5, 6]],\n",
    "    [[7, 8, 9],\n",
    "     [10, 11, 12]]\n",
    "])\n",
    "print(c) # layer, row, column\n",
    "print(f\"Dimension of the array: {c.shape}, total number of elements: {c.size}, number of axis: {c.ndim}\")"
   ]
  },
  {
   "cell_type": "code",
   "execution_count": 18,
   "id": "f9efb616",
   "metadata": {},
   "outputs": [
    {
     "name": "stdout",
     "output_type": "stream",
     "text": [
      "[[0. 0. 0. 0.]\n",
      " [0. 0. 0. 0.]\n",
      " [0. 0. 0. 0.]]\n",
      "====================================================================================================\n",
      "[[[1 1 1 1]\n",
      "  [1 1 1 1]\n",
      "  [1 1 1 1]]\n",
      "\n",
      " [[1 1 1 1]\n",
      "  [1 1 1 1]\n",
      "  [1 1 1 1]]]\n",
      "====================================================================================================\n",
      "[[1.39069238e-309 1.39069238e-309 1.39069238e-309]\n",
      " [1.39069238e-309 1.39069238e-309 1.39069238e-309]]\n",
      "Type of the array: float64\n"
     ]
    }
   ],
   "source": [
    "# For method 3, using placeholders like zeros, ones, or empty\n",
    "d = np.zeros((3, 4))\n",
    "print(d)\n",
    "print(\"=\" * 100)\n",
    "e = np.ones((2, 3, 4), dtype=np.int16)\n",
    "print(e)\n",
    "print(\"=\" * 100)\n",
    "# Empty array, the values are uninitialized (whatever was in memory at that time)\n",
    "f = np.empty((2, 3))\n",
    "print(f)\n",
    "print(f\"Type of the array: {f.dtype}\")"
   ]
  },
  {
   "cell_type": "code",
   "execution_count": 21,
   "id": "cb867eae",
   "metadata": {},
   "outputs": [
    {
     "name": "stdout",
     "output_type": "stream",
     "text": [
      "[0.   0.25 0.5  0.75 1.  ]\n"
     ]
    }
   ],
   "source": [
    "# For method 4, using linspace to create an array with `evenly spaced` values over a specified interval\n",
    "g = np.linspace(0, 1, 5) # Start at 0, end at 1, with 5 evenly spaced values\n",
    "print(g)"
   ]
  },
  {
   "cell_type": "markdown",
   "id": "02e02720",
   "metadata": {},
   "source": [
    "### Basic Operation"
   ]
  },
  {
   "cell_type": "code",
   "execution_count": 29,
   "id": "68ae3eae",
   "metadata": {},
   "outputs": [
    {
     "name": "stdout",
     "output_type": "stream",
     "text": [
      "[[0 1 2]\n",
      " [3 4 5]\n",
      " [6 7 8]]\n",
      "[[1 2 3]\n",
      " [4 5 6]\n",
      " [7 8 9]]\n",
      "====================================================================================================\n",
      "Proof: a @ b = a.dot(b) = [[ 18  21  24]\n",
      " [ 54  66  78]\n",
      " [ 90 111 132]], [[ 18  21  24]\n",
      " [ 54  66  78]\n",
      " [ 90 111 132]]\n"
     ]
    }
   ],
   "source": [
    "a = np.arange(0, 9).reshape(3, 3)\n",
    "print(a)\n",
    "b = np.array([1, 2, 3, 4, 5, 6, 7, 8, 9]).reshape(3, 3)\n",
    "print(b)\n",
    "print(\"=\" * 100)\n",
    "# Common ones: +, -, *, /, //, %, **, etc.\n",
    "# For matrix multiplication, use the @ operator or np.dot() function\n",
    "print(f\"Proof: a @ b = a.dot(b) = {a @ b}, {np.dot(a, b)}\")"
   ]
  }
 ],
 "metadata": {
  "kernelspec": {
   "display_name": "Python 3",
   "language": "python",
   "name": "python3"
  },
  "language_info": {
   "codemirror_mode": {
    "name": "ipython",
    "version": 3
   },
   "file_extension": ".py",
   "mimetype": "text/x-python",
   "name": "python",
   "nbconvert_exporter": "python",
   "pygments_lexer": "ipython3",
   "version": "3.12.7"
  }
 },
 "nbformat": 4,
 "nbformat_minor": 5
}
